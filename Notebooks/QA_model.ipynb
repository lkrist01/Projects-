{
 "cells": [
  {
   "cell_type": "code",
   "execution_count": 1,
   "metadata": {},
   "outputs": [
    {
     "name": "stderr",
     "output_type": "stream",
     "text": [
      "c:\\Users\\CL9\\AppData\\Local\\Programs\\Python\\Python310\\lib\\site-packages\\torch\\_masked\\__init__.py:223: UserWarning: Failed to initialize NumPy: module compiled against API version 0xf but this version of numpy is 0xe (Triggered internally at  ..\\torch\\csrc\\utils\\tensor_numpy.cpp:68.)\n",
      "  example_input = torch.tensor([[-3, -2, -1], [0, 1, 2]])\n"
     ]
    }
   ],
   "source": [
    "import matplotlib.pyplot as plt\n",
    "import nltk \n",
    "import pandas as pd\n",
    "import tensorflow as tf\n",
    "import numpy as np\n",
    "import transformers\n",
    "from transformers import AutoTokenizer, TFAutoModelForQuestionAnswering, BertConfig, BertTokenizer\n",
    "from transformers import DistilBertTokenizer, TFDistilBertForQuestionAnswering"
   ]
  },
  {
   "cell_type": "code",
   "execution_count": 2,
   "metadata": {},
   "outputs": [],
   "source": [
    "# import util\n",
    "# from util import *"
   ]
  },
  {
   "cell_type": "code",
   "execution_count": 3,
   "metadata": {},
   "outputs": [
    {
     "data": {
      "application/vnd.jupyter.widget-view+json": {
       "model_id": "51ea376d43de4a0fa843cdbb598d7bd6",
       "version_major": 2,
       "version_minor": 0
      },
      "text/plain": [
       "Downloading:   0%|          | 0.00/29.0 [00:00<?, ?B/s]"
      ]
     },
     "metadata": {},
     "output_type": "display_data"
    },
    {
     "data": {
      "application/vnd.jupyter.widget-view+json": {
       "model_id": "67ff43602e194d71ba29dda8f0d6ca2f",
       "version_major": 2,
       "version_minor": 0
      },
      "text/plain": [
       "Downloading:   0%|          | 0.00/473 [00:00<?, ?B/s]"
      ]
     },
     "metadata": {},
     "output_type": "display_data"
    },
    {
     "data": {
      "application/vnd.jupyter.widget-view+json": {
       "model_id": "bbff70e3fbca4b5bb294b3655f2b9278",
       "version_major": 2,
       "version_minor": 0
      },
      "text/plain": [
       "Downloading:   0%|          | 0.00/208k [00:00<?, ?B/s]"
      ]
     },
     "metadata": {},
     "output_type": "display_data"
    },
    {
     "data": {
      "application/vnd.jupyter.widget-view+json": {
       "model_id": "905d090cc0614374803c28e8ce71db98",
       "version_major": 2,
       "version_minor": 0
      },
      "text/plain": [
       "Downloading:   0%|          | 0.00/426k [00:00<?, ?B/s]"
      ]
     },
     "metadata": {},
     "output_type": "display_data"
    }
   ],
   "source": [
    "model_checkpoint = \"distilbert-base-cased-distilled-squad\"\n",
    "tokenizer = AutoTokenizer.from_pretrained(model_checkpoint)"
   ]
  },
  {
   "cell_type": "code",
   "execution_count": 4,
   "metadata": {},
   "outputs": [],
   "source": [
    "# UNQ_C3 (UNIQUE CELL IDENTIFIER, DO NOT EDIT)\n",
    "def prepare_bert_input(question, passage, tokenizer, max_seq_length=384):\n",
    "    \"\"\"\n",
    "    Prepare question and passage for input to BERT. \n",
    "\n",
    "    Args:\n",
    "        question (string): question string\n",
    "        passage (string): passage string where answer should lie\n",
    "        tokenizer (Tokenizer): used for transforming raw string input\n",
    "        max_seq_length (int): length of BERT input\n",
    "    \n",
    "    Returns:\n",
    "        input_ids (tf.Tensor): tensor of size (1, max_seq_length) which holds\n",
    "                               ids of tokens in input\n",
    "        input_mask (list): list of length max_seq_length of 1s and 0s with 1s\n",
    "                           in indices corresponding to input tokens, 0s in\n",
    "                           indices corresponding to padding\n",
    "        tokens (list): list of length of actual string tokens corresponding to input_ids\n",
    "    \"\"\"\n",
    "    # tokenize question\n",
    "    question_tokens = tokenizer.tokenize(question)\n",
    "    \n",
    "    # tokenize passage\n",
    "    passage_token = tokenizer.tokenize(passage)\n",
    "\n",
    "    # get special tokens \n",
    "    CLS = tokenizer.cls_token\n",
    "    SEP = tokenizer.sep_token\n",
    "    \n",
    "    ### START CODE HERE (REPLACE INSTANCES OF 'None' with your code) ###\n",
    "    \n",
    "    # manipulate tokens to get input in correct form (not adding padding yet)\n",
    "    # CLS {question_tokens} SEP {answer_tokens} \n",
    "    # This should be a list of tokens\n",
    "    tokens = [CLS] + question_tokens + [SEP] + passage_token\n",
    "\n",
    "    \n",
    "    # Convert tokens into integer IDs.\n",
    "    input_ids = tokenizer.convert_tokens_to_ids(tokens)\n",
    "    \n",
    "    # Create an input mask which has integer 1 for each token in the 'tokens' list\n",
    "    input_mask = [1] * len(input_ids)\n",
    "\n",
    "    # pad input_ids with 0s until it is the max_seq_length\n",
    "    # Create padding for input_ids by creating a list of zeros [0,0,...0]\n",
    "    # Add the padding to input_ids so that its length equals max_seq_length\n",
    "    input_ids = input_ids + [0] * (max_seq_length - len(input_ids))\n",
    "    \n",
    "    # Do the same to pad the input_mask so its length is max_seq_length\n",
    "    input_mask = input_mask + [0] * (max_seq_length - len(input_mask))\n",
    "\n",
    "    # END CODE HERE\n",
    "\n",
    "    return tf.expand_dims(tf.convert_to_tensor(input_ids), 0), input_mask, tokens  "
   ]
  },
  {
   "cell_type": "code",
   "execution_count": 5,
   "metadata": {},
   "outputs": [
    {
     "name": "stdout",
     "output_type": "stream",
     "text": [
      "Test Case:\n",
      "\n",
      "Passage: My name is Bob.\n",
      "Question: What is my name?\n",
      "\n",
      "Tokens:\n",
      "['[CLS]', 'What', 'is', 'my', 'name', '?', '[SEP]', 'My', 'name', 'is', 'Bob', '.']\n",
      "\n",
      "Corresponding input IDs:\n",
      "tf.Tensor(\n",
      "[[ 101 1327 1110 1139 1271  136  102 1422 1271 1110 3162  119    0    0\n",
      "     0    0    0    0    0    0]], shape=(1, 20), dtype=int32)\n",
      "\n",
      "Mask:\n",
      "[1, 1, 1, 1, 1, 1, 1, 1, 1, 1, 1, 1, 0, 0, 0, 0, 0, 0, 0, 0]\n"
     ]
    }
   ],
   "source": [
    "passage = \"My name is Bob.\"\n",
    "\n",
    "question = \"What is my name?\"\n",
    "\n",
    "input_ids, input_mask, tokens = prepare_bert_input(question, passage, tokenizer, 20)\n",
    "print(\"Test Case:\\n\")\n",
    "print(\"Passage: {}\".format(passage))\n",
    "print(\"Question: {}\".format(question))\n",
    "print()\n",
    "print(\"Tokens:\")\n",
    "print(tokens)\n",
    "print(\"\\nCorresponding input IDs:\")\n",
    "print(input_ids)\n",
    "print(\"\\nMask:\")\n",
    "print(input_mask)"
   ]
  },
  {
   "cell_type": "code",
   "execution_count": 6,
   "metadata": {},
   "outputs": [],
   "source": [
    "# UNQ_C4 (UNIQUE CELL IDENTIFIER, DO NOT EDIT)\n",
    "def get_span_from_scores(start_scores, end_scores, input_mask, verbose=False):\n",
    "    \"\"\"\n",
    "    Find start and end indices that maximize sum of start score\n",
    "    and end score, subject to the constraint that start is before end\n",
    "    and both are valid according to input_mask.\n",
    "\n",
    "    Args:\n",
    "        start_scores (list): contains scores for start positions, shape (1, n)\n",
    "        end_scores (list): constains scores for end positions, shape (1, n)\n",
    "        input_mask (list): 1 for valid positions and 0 otherwise\n",
    "    \"\"\"\n",
    "    n = len(start_scores)\n",
    "    max_start_i = -1\n",
    "    max_end_j = -1\n",
    "    max_start_score = -np.inf\n",
    "    max_end_score = -np.inf\n",
    "    max_sum = -np.inf\n",
    "    \n",
    "    # Find i and j that maximizes start_scores[i] + end_scores[j]\n",
    "    # so that i <= j and input_mask[i] == input_mask[j] == 1\n",
    "    \n",
    "    ### START CODE HERE (REPLACE INSTANCES OF 'None' with your code) ###\n",
    "    # set the range for i\n",
    "    for i in range(n): # complete this line\n",
    "        \n",
    "        # set the range for j\n",
    "        for j in range(i, n): #complete this line\n",
    "\n",
    "            # both input masks should be 1\n",
    "            if (input_mask[i] == 1) & (input_mask[j] == 1): # complete this line\n",
    "                \n",
    "                # check if the sum of the start and end scores is greater than the previous max sum\n",
    "                if start_scores[i] + end_scores[j] > max_sum: # complete this line\n",
    "\n",
    "                    # calculate the new max sum\n",
    "                    max_sum = start_scores[i] + end_scores[j]\n",
    "        \n",
    "                    # save the index of the max start score\n",
    "                    max_start_i = i\n",
    "                \n",
    "                    # save the index for the max end score\n",
    "                    max_end_j = j\n",
    "                    \n",
    "                    # save the value of the max start score\n",
    "                    max_start_val = start_scores[i]\n",
    "                    \n",
    "                    # save the value of the max end score\n",
    "                    max_end_val = end_scores[j]\n",
    "                                        \n",
    "    ### END CODE HERE ###\n",
    "    if verbose:\n",
    "        print(f\"max start is at index i={max_start_i} and score {max_start_val}\")\n",
    "        print(f\"max end is at index i={max_end_j} and score {max_end_val}\")\n",
    "        print(f\"max start + max end sum of scores is {max_sum}\")\n",
    "    return max_start_i, max_end_j"
   ]
  },
  {
   "cell_type": "code",
   "execution_count": 7,
   "metadata": {},
   "outputs": [
    {
     "name": "stdout",
     "output_type": "stream",
     "text": [
      "max start is at index i=1 and score 2.0\n",
      "max end is at index i=4 and score 4.0\n",
      "max start + max end sum of scores is 6.0\n",
      "Expected: (1, 4) \n",
      "Returned: (1, 4)\n"
     ]
    }
   ],
   "source": [
    "start_scores = tf.convert_to_tensor([-1, 2, 0.4, -0.3, 0, 8, 10, 12], dtype=float)\n",
    "end_scores = tf.convert_to_tensor([5, 1, 1, 3, 4, 10, 10, 10], dtype=float)\n",
    "input_mask = [1, 1, 1, 1, 1, 0, 0, 0]\n",
    "\n",
    "start, end = get_span_from_scores(start_scores, end_scores, input_mask, verbose=True)\n",
    "\n",
    "print(\"Expected: (1, 4) \\nReturned: ({}, {})\".format(start, end))"
   ]
  },
  {
   "cell_type": "code",
   "execution_count": 8,
   "metadata": {},
   "outputs": [],
   "source": [
    "# UNQ_C5 (UNIQUE CELL IDENTIFIER, DO NOT EDIT)\n",
    "def construct_answer(tokens):\n",
    "    \"\"\"\n",
    "    Combine tokens into a string, remove some hash symbols, and leading/trailing whitespace.\n",
    "    Args:\n",
    "        tokens: a list of tokens (strings)\n",
    "    \n",
    "    Returns:\n",
    "        out_string: the processed string.\n",
    "    \"\"\"\n",
    "    \n",
    "    ### START CODE HERE (REPLACE INSTANCES OF 'None' with your code) ###\n",
    "    \n",
    "    # join the tokens together with whitespace\n",
    "    out_string = ' '.join(tokens)\n",
    "    \n",
    "    # replace ' ##' with empty string\n",
    "    out_string = out_string.replace(' ##', '')\n",
    "    \n",
    "    # remove leading and trailing whitespace\n",
    "    out_string = out_string.strip()\n",
    "\n",
    "    ### END CODE HERE ###\n",
    "    \n",
    "    # if there is an '@' symbol in the tokens, remove all whitespace\n",
    "    if '@' in tokens:\n",
    "        out_string = out_string.replace(' ', '')\n",
    "\n",
    "    return out_string"
   ]
  },
  {
   "cell_type": "code",
   "execution_count": 9,
   "metadata": {},
   "outputs": [
    {
     "name": "stdout",
     "output_type": "stream",
     "text": [
      "tmp_out_string_1: hello how  are  you?, length 20\n",
      "tmp_out_string_2: @hellohowareyou?, length 16\n"
     ]
    }
   ],
   "source": [
    " #Test\n",
    "\n",
    "tmp_tokens_1 = [' ## hello', 'how ', 'are ', 'you?      ']\n",
    "tmp_out_string_1 = construct_answer(tmp_tokens_1)\n",
    "\n",
    "print(f\"tmp_out_string_1: {tmp_out_string_1}, length {len(tmp_out_string_1)}\")\n",
    "\n",
    "\n",
    "tmp_tokens_2 = ['@',' ## hello', 'how ', 'are ', 'you?      ']\n",
    "tmp_out_string_2 = construct_answer(tmp_tokens_2)\n",
    "print(f\"tmp_out_string_2: {tmp_out_string_2}, length {len(tmp_out_string_2)}\")"
   ]
  },
  {
   "cell_type": "code",
   "execution_count": 10,
   "metadata": {},
   "outputs": [
    {
     "data": {
      "application/vnd.jupyter.widget-view+json": {
       "model_id": "8cae6d7305f6496dbab2dece993272a3",
       "version_major": 2,
       "version_minor": 0
      },
      "text/plain": [
       "Downloading:   0%|          | 0.00/249M [00:00<?, ?B/s]"
      ]
     },
     "metadata": {},
     "output_type": "display_data"
    },
    {
     "name": "stderr",
     "output_type": "stream",
     "text": [
      "All model checkpoint layers were used when initializing TFDistilBertForQuestionAnswering.\n",
      "\n",
      "All the layers of TFDistilBertForQuestionAnswering were initialized from the model checkpoint at distilbert-base-cased-distilled-squad.\n",
      "If your task is similar to the task the model of the checkpoint was trained on, you can already use TFDistilBertForQuestionAnswering for predictions without further training.\n"
     ]
    }
   ],
   "source": [
    "#Tensorflow\n",
    "# config = DistilBertTokenizer.from_pretrained('distilbert-base-uncased')    # Download configuration from S3 and cache.\n",
    "# model = TFDistilBertForQuestionAnswering.from_config(config)\n",
    "model = TFAutoModelForQuestionAnswering.from_pretrained(model_checkpoint)\n",
    "\n",
    "# #For torch\n",
    "# model = DistilBertForSequenceClassification.from_pretrained('distilbert-base-cased')"
   ]
  },
  {
   "cell_type": "code",
   "execution_count": 11,
   "metadata": {},
   "outputs": [],
   "source": [
    "def get_model_answer(model, question, passage, tokenizer, max_seq_length=384):\n",
    "    \"\"\"\n",
    "    Identify answer in passage for a given question using BERT. \n",
    "\n",
    "    Args:\n",
    "        model (Model): pretrained Bert model which we'll use to answer questions\n",
    "        question (string): question string\n",
    "        passage (string): passage string\n",
    "        tokenizer (Tokenizer): used for preprocessing of input\n",
    "        max_seq_length (int): length of input for model\n",
    "        \n",
    "    Returns:\n",
    "        answer (string): answer to input question according to model\n",
    "    \"\"\" \n",
    "    # prepare input: use the function prepare_bert_input\n",
    "    input_ids, input_mask, tokens = prepare_bert_input(question, passage, tokenizer, max_seq_length)\n",
    "    \n",
    "    # get scores for start of answer and end of answer\n",
    "    # use the model returned by TFAutoModelForQuestionAnswering.from_pretrained(\"./models\")\n",
    "    # pass in in the input ids that are returned by prepare_bert_input\n",
    "    outputs = model(input_ids)\n",
    "    start_scores, end_scores = outputs.start_logits, outputs.end_logits\n",
    "    \n",
    "  \n",
    "    # start_scores and end_scores will be tensors of shape [1,max_seq_length]\n",
    "    # To pass these into get_span_from_scores function, \n",
    "    # take the value at index 0 to get a tensor of shape [max_seq_length]\n",
    "    start_scores = start_scores[0]\n",
    "    end_scores = end_scores[0]\n",
    "    \n",
    "    # using scores, get most likely answer\n",
    "    # use the get_span_from_scores function\n",
    "    span_start, span_end = get_span_from_scores(start_scores, end_scores, input_mask)\n",
    "    \n",
    "    # Using array indexing to get the tokens from the span start to span end (including the span_end)\n",
    "    answer_tokens = tokens[span_start:span_end+1]\n",
    "    \n",
    "    # Combine the tokens into a single string and perform post-processing\n",
    "    # use construct_answer\n",
    "    answer = construct_answer(answer_tokens)\n",
    "    \n",
    "    return answer"
   ]
  },
  {
   "cell_type": "code",
   "execution_count": 12,
   "metadata": {},
   "outputs": [
    {
     "name": "stdout",
     "output_type": "stream",
     "text": [
      "Output: Computational complexity theory\n",
      "Expected: Computational complexity theory\n"
     ]
    }
   ],
   "source": [
    "passage = \"Computational complexity theory is a branch of the theory \\\n",
    "           of computation in theoretical computer science that focuses \\\n",
    "           on classifying computational problems according to their inherent \\\n",
    "           difficulty, and relating those classes to each other. A computational \\\n",
    "           problem is understood to be a task that is in principle amenable to \\\n",
    "           being solved by a computer, which is equivalent to stating that the \\\n",
    "           problem may be solved by mechanical application of mathematical steps, \\\n",
    "           such as an algorithm.\"\n",
    "\n",
    "question = \"What branch of theoretical computer science deals with broadly \\\n",
    "            classifying computational problems by difficulty and class of relationship?\"\n",
    "\n",
    "\n",
    "print(\"Output: {}\".format(get_model_answer(model, question, passage, tokenizer)))\n",
    "print(\"Expected: Computational complexity theory\")"
   ]
  },
  {
   "cell_type": "code",
   "execution_count": 14,
   "metadata": {},
   "outputs": [
    {
     "name": "stdout",
     "output_type": "stream",
     "text": [
      "Question 1: How old is the patient?\n",
      "\n",
      "Answer: 86\n",
      "\n",
      "\n",
      "Question 2: Does the patient have any complaints?\n",
      "\n",
      "Answer: The patient complains of shortness of breath\n",
      "\n",
      "\n",
      "Question 3: What is the reason for this consultation?\n",
      "\n",
      "Answer: [CLS]\n",
      "\n",
      "\n",
      "Question 4: What does her echocardiogram show?\n",
      "\n",
      "Answer: severe mitral regurgitation\n",
      "\n",
      "\n",
      "Question 5: What other symptoms does the patient have?\n",
      "\n",
      "Answer: colitis and also diverticulitis\n",
      "\n",
      "\n"
     ]
    }
   ],
   "source": [
    "passage = \"Abnormal echocardiogram findings and followup. Shortness of breath, congestive heart failure, \\\n",
    "           and valvular insufficiency. The patient complains of shortness of breath, which is worsening. \\\n",
    "           The patient underwent an echocardiogram, which shows severe mitral regurgitation and also large \\\n",
    "           pleural effusion. The patient is an 86-year-old female admitted for evaluation of abdominal pain \\\n",
    "           and bloody stools. The patient has colitis and also diverticulitis, undergoing treatment. \\\n",
    "           During the hospitalization, the patient complains of shortness of breath, which is worsening. \\\n",
    "           The patient underwent an echocardiogram, which shows severe mitral regurgitation and also large \\\n",
    "           pleural effusion. This consultation is for further evaluation in this regard. As per the patient, \\\n",
    "           she is an 86-year-old female, has limited activity level. She has been having shortness of breath \\\n",
    "           for many years. She also was told that she has a heart murmur, which was not followed through \\\n",
    "           on a regular basis.\"\n",
    "\n",
    "q1 = \"How old is the patient?\"\n",
    "q2 = \"Does the patient have any complaints?\"\n",
    "q3 = \"What is the reason for this consultation?\"\n",
    "q4 = \"What does her echocardiogram show?\"\n",
    "q5 = \"What other symptoms does the patient have?\"\n",
    "\n",
    "\n",
    "questions = [q1, q2, q3, q4, q5]\n",
    "\n",
    "for i, q in enumerate(questions):\n",
    "    print(\"Question {}: {}\".format(i+1, q))\n",
    "    print()\n",
    "    print(\"Answer: {}\".format(get_model_answer(model, q, passage, tokenizer)))\n",
    "    print()\n",
    "    print()"
   ]
  }
 ],
 "metadata": {
  "kernelspec": {
   "display_name": "Python 3.10.1 64-bit",
   "language": "python",
   "name": "python3"
  },
  "language_info": {
   "codemirror_mode": {
    "name": "ipython",
    "version": 3
   },
   "file_extension": ".py",
   "mimetype": "text/x-python",
   "name": "python",
   "nbconvert_exporter": "python",
   "pygments_lexer": "ipython3",
   "version": "3.10.1"
  },
  "orig_nbformat": 4,
  "vscode": {
   "interpreter": {
    "hash": "43b16f2ff3207975419eb2fd7fddb18857daee7e3088abb7b4a0c3b203ce3a28"
   }
  }
 },
 "nbformat": 4,
 "nbformat_minor": 2
}
